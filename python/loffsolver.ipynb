{
  "nbformat": 4,
  "nbformat_minor": 0,
  "metadata": {
    "jupytext": {
      "encoding": "# -*- coding: utf-8 -*-",
      "text_representation": {
        "extension": ".py",
        "format_name": "light",
        "format_version": "1.5",
        "jupytext_version": "1.6.0"
      }
    },
    "kernelspec": {
      "display_name": "Python 3",
      "language": "python",
      "name": "python3"
    },
    "language_info": {
      "codemirror_mode": {
        "name": "ipython",
        "version": 3
      },
      "file_extension": ".py",
      "mimetype": "text/x-python",
      "name": "python",
      "nbconvert_exporter": "python",
      "pygments_lexer": "ipython3",
      "version": "3.7.9"
    },
    "colab": {
      "name": "loffsolver.ipynb",
      "provenance": [],
      "toc_visible": true,
      "include_colab_link": true
    }
  },
  "cells": [
    {
      "cell_type": "markdown",
      "metadata": {
        "id": "view-in-github",
        "colab_type": "text"
      },
      "source": [
        "<a href=\"https://colab.research.google.com/github/Lunaire86/notebooks/blob/main/python/loffsolver.ipynb\" target=\"_parent\"><img src=\"https://colab.research.google.com/assets/colab-badge.svg\" alt=\"Open In Colab\"/></a>"
      ]
    },
    {
      "cell_type": "markdown",
      "metadata": {
        "id": "4GOy0JqdJzyb"
      },
      "source": [
        "# Loffkoden"
      ]
    },
    {
      "cell_type": "markdown",
      "metadata": {
        "id": "_dBGE0H9Jzyl"
      },
      "source": [
        "***«Klarer du å dekode loffen?»*** *«Det er mange gode grunner til å velge Experis Academy når du skal oppdatere IT-kunnskapene dine. [Her presenteres tre av de med loff](https://experisacademy.no/loffkoden).»*"
      ]
    },
    {
      "cell_type": "markdown",
      "metadata": {
        "id": "IjhH7BJSJzyp"
      },
      "source": [
        "### Initial thoughts\n",
        "It's pretty clear that this has to be a binary representation of the message. Given how the pattern presents, visually speaking, an 8-bit grouping seems most likely. Groups of 4 might also be a contender, depending of whether it's a cipher or simply encoded."
      ]
    },
    {
      "cell_type": "markdown",
      "metadata": {
        "id": "M0SGwunrJzyw"
      },
      "source": [
        "#### Imports and setup"
      ]
    },
    {
      "cell_type": "code",
      "metadata": {
        "id": "n7ktGZOTJzyz"
      },
      "source": [
        "%matplotlib inline\n",
        "\n",
        "from os import path\n",
        "from collections import Counter\n",
        "\n",
        "import matplotlib.pyplot as plt\n",
        "import numpy as np\n",
        "import pandas as pd\n",
        "\n",
        "# matplotlib setup\n",
        "plt.rcParams['figure.figsize'] = [6, 4]\n",
        "plt.rcParams['figure.dpi'] = 100"
      ],
      "execution_count": null,
      "outputs": []
    },
    {
      "cell_type": "markdown",
      "metadata": {
        "id": "wlVqJp6wJzzA"
      },
      "source": [
        "#### Pre-processing\n",
        "This was done manually: 0 for light slice, 1 for dark. \n",
        "\n",
        "Since I like to use Pandas, the CSV format was used, and I started with the 4-bit grouping. It would've been fine to use only Numpy too, or even just Python, but Pandas lends itself to the visual exploration of data."
      ]
    },
    {
      "cell_type": "code",
      "metadata": {
        "id": "qaUZXvc8JzzD",
        "outputId": "dc59d38a-284f-4e7d-ec1f-de6d4a641c9d",
        "colab": {
          "base_uri": "https://localhost:8080/",
          "height": 147
        }
      },
      "source": [
        "df_raw = pd.read_csv(\n",
        "    '/content/temp_data/loff_4d_binary.csv', \n",
        "    header=None, \n",
        "    index_col=None, \n",
        "    dtype=str\n",
        ")\n",
        "df_raw.head().style.hide_index()"
      ],
      "execution_count": null,
      "outputs": [
        {
          "output_type": "execute_result",
          "data": {
            "text/html": [
              "<style  type=\"text/css\" >\n",
              "</style><table id=\"T_668a717c_2686_11eb_af91_0242ac1c0002\" ><thead>    <tr>        <th class=\"col_heading level0 col0\" >0</th>        <th class=\"col_heading level0 col1\" >1</th>        <th class=\"col_heading level0 col2\" >2</th>        <th class=\"col_heading level0 col3\" >3</th>        <th class=\"col_heading level0 col4\" >4</th>        <th class=\"col_heading level0 col5\" >5</th>    </tr></thead><tbody>\n",
              "                <tr>\n",
              "                                <td id=\"T_668a717c_2686_11eb_af91_0242ac1c0002row0_col0\" class=\"data row0 col0\" >0100</td>\n",
              "                        <td id=\"T_668a717c_2686_11eb_af91_0242ac1c0002row0_col1\" class=\"data row0 col1\" >1100</td>\n",
              "                        <td id=\"T_668a717c_2686_11eb_af91_0242ac1c0002row0_col2\" class=\"data row0 col2\" >1100</td>\n",
              "                        <td id=\"T_668a717c_2686_11eb_af91_0242ac1c0002row0_col3\" class=\"data row0 col3\" >0011</td>\n",
              "                        <td id=\"T_668a717c_2686_11eb_af91_0242ac1c0002row0_col4\" class=\"data row0 col4\" >1011</td>\n",
              "                        <td id=\"T_668a717c_2686_11eb_af91_0242ac1c0002row0_col5\" class=\"data row0 col5\" >1000</td>\n",
              "            </tr>\n",
              "            <tr>\n",
              "                                <td id=\"T_668a717c_2686_11eb_af91_0242ac1c0002row1_col0\" class=\"data row1 col0\" >0110</td>\n",
              "                        <td id=\"T_668a717c_2686_11eb_af91_0242ac1c0002row1_col1\" class=\"data row1 col1\" >1110</td>\n",
              "                        <td id=\"T_668a717c_2686_11eb_af91_0242ac1c0002row1_col2\" class=\"data row1 col2\" >0110</td>\n",
              "                        <td id=\"T_668a717c_2686_11eb_af91_0242ac1c0002row1_col3\" class=\"data row1 col3\" >1110</td>\n",
              "                        <td id=\"T_668a717c_2686_11eb_af91_0242ac1c0002row1_col4\" class=\"data row1 col4\" >0110</td>\n",
              "                        <td id=\"T_668a717c_2686_11eb_af91_0242ac1c0002row1_col5\" class=\"data row1 col5\" >0101</td>\n",
              "            </tr>\n",
              "            <tr>\n",
              "                                <td id=\"T_668a717c_2686_11eb_af91_0242ac1c0002row2_col0\" class=\"data row2 col0\" >0111</td>\n",
              "                        <td id=\"T_668a717c_2686_11eb_af91_0242ac1c0002row2_col1\" class=\"data row2 col1\" >0100</td>\n",
              "                        <td id=\"T_668a717c_2686_11eb_af91_0242ac1c0002row2_col2\" class=\"data row2 col2\" >0010</td>\n",
              "                        <td id=\"T_668a717c_2686_11eb_af91_0242ac1c0002row2_col3\" class=\"data row2 col3\" >0000</td>\n",
              "                        <td id=\"T_668a717c_2686_11eb_af91_0242ac1c0002row2_col4\" class=\"data row2 col4\" >0111</td>\n",
              "                        <td id=\"T_668a717c_2686_11eb_af91_0242ac1c0002row2_col5\" class=\"data row2 col5\" >0101</td>\n",
              "            </tr>\n",
              "            <tr>\n",
              "                                <td id=\"T_668a717c_2686_11eb_af91_0242ac1c0002row3_col0\" class=\"data row3 col0\" >0111</td>\n",
              "                        <td id=\"T_668a717c_2686_11eb_af91_0242ac1c0002row3_col1\" class=\"data row3 col1\" >0100</td>\n",
              "                        <td id=\"T_668a717c_2686_11eb_af91_0242ac1c0002row3_col2\" class=\"data row3 col2\" >0110</td>\n",
              "                        <td id=\"T_668a717c_2686_11eb_af91_0242ac1c0002row3_col3\" class=\"data row3 col3\" >0100</td>\n",
              "                        <td id=\"T_668a717c_2686_11eb_af91_0242ac1c0002row3_col4\" class=\"data row3 col4\" >0110</td>\n",
              "                        <td id=\"T_668a717c_2686_11eb_af91_0242ac1c0002row3_col5\" class=\"data row3 col5\" >0001</td>\n",
              "            </tr>\n",
              "            <tr>\n",
              "                                <td id=\"T_668a717c_2686_11eb_af91_0242ac1c0002row4_col0\" class=\"data row4 col0\" >0110</td>\n",
              "                        <td id=\"T_668a717c_2686_11eb_af91_0242ac1c0002row4_col1\" class=\"data row4 col1\" >1110</td>\n",
              "                        <td id=\"T_668a717c_2686_11eb_af91_0242ac1c0002row4_col2\" class=\"data row4 col2\" >0110</td>\n",
              "                        <td id=\"T_668a717c_2686_11eb_af91_0242ac1c0002row4_col3\" class=\"data row4 col3\" >1110</td>\n",
              "                        <td id=\"T_668a717c_2686_11eb_af91_0242ac1c0002row4_col4\" class=\"data row4 col4\" >0110</td>\n",
              "                        <td id=\"T_668a717c_2686_11eb_af91_0242ac1c0002row4_col5\" class=\"data row4 col5\" >1001</td>\n",
              "            </tr>\n",
              "    </tbody></table>"
            ],
            "text/plain": [
              "<pandas.io.formats.style.Styler at 0x7f06acfabba8>"
            ]
          },
          "metadata": {
            "tags": []
          },
          "execution_count": 10
        }
      ]
    },
    {
      "cell_type": "markdown",
      "metadata": {
        "id": "b3zRJSKPJzzO"
      },
      "source": [
        "I first wanted to check whether it could be as simple as converting each group of 4 bits to the decimal system, and mapping them to corresponding letters. This would mean using only 16 different letters, but it would be fairly simple to convey a message using only the 16 most commonly used letters, due to the letter frequency distribution in natural languages, i.e. Norwegian."
      ]
    },
    {
      "cell_type": "code",
      "metadata": {
        "id": "Ze88GI2NJzzQ",
        "outputId": "f2783454-4ac0-4cc8-d671-16a01e59c414",
        "colab": {
          "base_uri": "https://localhost:8080/",
          "height": 361
        }
      },
      "source": [
        "# convert from base 2 to base 10, i.e. from binary to decimal\n",
        "df = df_raw.copy().applymap(lambda x: np.str(np.int(x, 2)))\n",
        "df.style.hide_index()"
      ],
      "execution_count": null,
      "outputs": [
        {
          "output_type": "execute_result",
          "data": {
            "text/html": [
              "<style  type=\"text/css\" >\n",
              "</style><table id=\"T_67327c0a_2686_11eb_af91_0242ac1c0002\" ><thead>    <tr>        <th class=\"col_heading level0 col0\" >0</th>        <th class=\"col_heading level0 col1\" >1</th>        <th class=\"col_heading level0 col2\" >2</th>        <th class=\"col_heading level0 col3\" >3</th>        <th class=\"col_heading level0 col4\" >4</th>        <th class=\"col_heading level0 col5\" >5</th>    </tr></thead><tbody>\n",
              "                <tr>\n",
              "                                <td id=\"T_67327c0a_2686_11eb_af91_0242ac1c0002row0_col0\" class=\"data row0 col0\" >4</td>\n",
              "                        <td id=\"T_67327c0a_2686_11eb_af91_0242ac1c0002row0_col1\" class=\"data row0 col1\" >12</td>\n",
              "                        <td id=\"T_67327c0a_2686_11eb_af91_0242ac1c0002row0_col2\" class=\"data row0 col2\" >12</td>\n",
              "                        <td id=\"T_67327c0a_2686_11eb_af91_0242ac1c0002row0_col3\" class=\"data row0 col3\" >3</td>\n",
              "                        <td id=\"T_67327c0a_2686_11eb_af91_0242ac1c0002row0_col4\" class=\"data row0 col4\" >11</td>\n",
              "                        <td id=\"T_67327c0a_2686_11eb_af91_0242ac1c0002row0_col5\" class=\"data row0 col5\" >8</td>\n",
              "            </tr>\n",
              "            <tr>\n",
              "                                <td id=\"T_67327c0a_2686_11eb_af91_0242ac1c0002row1_col0\" class=\"data row1 col0\" >6</td>\n",
              "                        <td id=\"T_67327c0a_2686_11eb_af91_0242ac1c0002row1_col1\" class=\"data row1 col1\" >14</td>\n",
              "                        <td id=\"T_67327c0a_2686_11eb_af91_0242ac1c0002row1_col2\" class=\"data row1 col2\" >6</td>\n",
              "                        <td id=\"T_67327c0a_2686_11eb_af91_0242ac1c0002row1_col3\" class=\"data row1 col3\" >14</td>\n",
              "                        <td id=\"T_67327c0a_2686_11eb_af91_0242ac1c0002row1_col4\" class=\"data row1 col4\" >6</td>\n",
              "                        <td id=\"T_67327c0a_2686_11eb_af91_0242ac1c0002row1_col5\" class=\"data row1 col5\" >5</td>\n",
              "            </tr>\n",
              "            <tr>\n",
              "                                <td id=\"T_67327c0a_2686_11eb_af91_0242ac1c0002row2_col0\" class=\"data row2 col0\" >7</td>\n",
              "                        <td id=\"T_67327c0a_2686_11eb_af91_0242ac1c0002row2_col1\" class=\"data row2 col1\" >4</td>\n",
              "                        <td id=\"T_67327c0a_2686_11eb_af91_0242ac1c0002row2_col2\" class=\"data row2 col2\" >2</td>\n",
              "                        <td id=\"T_67327c0a_2686_11eb_af91_0242ac1c0002row2_col3\" class=\"data row2 col3\" >0</td>\n",
              "                        <td id=\"T_67327c0a_2686_11eb_af91_0242ac1c0002row2_col4\" class=\"data row2 col4\" >7</td>\n",
              "                        <td id=\"T_67327c0a_2686_11eb_af91_0242ac1c0002row2_col5\" class=\"data row2 col5\" >5</td>\n",
              "            </tr>\n",
              "            <tr>\n",
              "                                <td id=\"T_67327c0a_2686_11eb_af91_0242ac1c0002row3_col0\" class=\"data row3 col0\" >7</td>\n",
              "                        <td id=\"T_67327c0a_2686_11eb_af91_0242ac1c0002row3_col1\" class=\"data row3 col1\" >4</td>\n",
              "                        <td id=\"T_67327c0a_2686_11eb_af91_0242ac1c0002row3_col2\" class=\"data row3 col2\" >6</td>\n",
              "                        <td id=\"T_67327c0a_2686_11eb_af91_0242ac1c0002row3_col3\" class=\"data row3 col3\" >4</td>\n",
              "                        <td id=\"T_67327c0a_2686_11eb_af91_0242ac1c0002row3_col4\" class=\"data row3 col4\" >6</td>\n",
              "                        <td id=\"T_67327c0a_2686_11eb_af91_0242ac1c0002row3_col5\" class=\"data row3 col5\" >1</td>\n",
              "            </tr>\n",
              "            <tr>\n",
              "                                <td id=\"T_67327c0a_2686_11eb_af91_0242ac1c0002row4_col0\" class=\"data row4 col0\" >6</td>\n",
              "                        <td id=\"T_67327c0a_2686_11eb_af91_0242ac1c0002row4_col1\" class=\"data row4 col1\" >14</td>\n",
              "                        <td id=\"T_67327c0a_2686_11eb_af91_0242ac1c0002row4_col2\" class=\"data row4 col2\" >6</td>\n",
              "                        <td id=\"T_67327c0a_2686_11eb_af91_0242ac1c0002row4_col3\" class=\"data row4 col3\" >14</td>\n",
              "                        <td id=\"T_67327c0a_2686_11eb_af91_0242ac1c0002row4_col4\" class=\"data row4 col4\" >6</td>\n",
              "                        <td id=\"T_67327c0a_2686_11eb_af91_0242ac1c0002row4_col5\" class=\"data row4 col5\" >9</td>\n",
              "            </tr>\n",
              "            <tr>\n",
              "                                <td id=\"T_67327c0a_2686_11eb_af91_0242ac1c0002row5_col0\" class=\"data row5 col0\" >6</td>\n",
              "                        <td id=\"T_67327c0a_2686_11eb_af91_0242ac1c0002row5_col1\" class=\"data row5 col1\" >14</td>\n",
              "                        <td id=\"T_67327c0a_2686_11eb_af91_0242ac1c0002row5_col2\" class=\"data row5 col2\" >6</td>\n",
              "                        <td id=\"T_67327c0a_2686_11eb_af91_0242ac1c0002row5_col3\" class=\"data row5 col3\" >7</td>\n",
              "                        <td id=\"T_67327c0a_2686_11eb_af91_0242ac1c0002row5_col4\" class=\"data row5 col4\" >2</td>\n",
              "                        <td id=\"T_67327c0a_2686_11eb_af91_0242ac1c0002row5_col5\" class=\"data row5 col5\" >12</td>\n",
              "            </tr>\n",
              "            <tr>\n",
              "                                <td id=\"T_67327c0a_2686_11eb_af91_0242ac1c0002row6_col0\" class=\"data row6 col0\" >2</td>\n",
              "                        <td id=\"T_67327c0a_2686_11eb_af91_0242ac1c0002row6_col1\" class=\"data row6 col1\" >0</td>\n",
              "                        <td id=\"T_67327c0a_2686_11eb_af91_0242ac1c0002row6_col2\" class=\"data row6 col2\" >7</td>\n",
              "                        <td id=\"T_67327c0a_2686_11eb_af91_0242ac1c0002row6_col3\" class=\"data row6 col3\" >0</td>\n",
              "                        <td id=\"T_67327c0a_2686_11eb_af91_0242ac1c0002row6_col4\" class=\"data row6 col4\" >7</td>\n",
              "                        <td id=\"T_67327c0a_2686_11eb_af91_0242ac1c0002row6_col5\" class=\"data row6 col5\" >2</td>\n",
              "            </tr>\n",
              "            <tr>\n",
              "                                <td id=\"T_67327c0a_2686_11eb_af91_0242ac1c0002row7_col0\" class=\"data row7 col0\" >6</td>\n",
              "                        <td id=\"T_67327c0a_2686_11eb_af91_0242ac1c0002row7_col1\" class=\"data row7 col1\" >1</td>\n",
              "                        <td id=\"T_67327c0a_2686_11eb_af91_0242ac1c0002row7_col2\" class=\"data row7 col2\" >6</td>\n",
              "                        <td id=\"T_67327c0a_2686_11eb_af91_0242ac1c0002row7_col3\" class=\"data row7 col3\" >11</td>\n",
              "                        <td id=\"T_67327c0a_2686_11eb_af91_0242ac1c0002row7_col4\" class=\"data row7 col4\" >7</td>\n",
              "                        <td id=\"T_67327c0a_2686_11eb_af91_0242ac1c0002row7_col5\" class=\"data row7 col5\" >3</td>\n",
              "            </tr>\n",
              "            <tr>\n",
              "                                <td id=\"T_67327c0a_2686_11eb_af91_0242ac1c0002row8_col0\" class=\"data row8 col0\" >6</td>\n",
              "                        <td id=\"T_67327c0a_2686_11eb_af91_0242ac1c0002row8_col1\" class=\"data row8 col1\" >9</td>\n",
              "                        <td id=\"T_67327c0a_2686_11eb_af91_0242ac1c0002row8_col2\" class=\"data row8 col2\" >7</td>\n",
              "                        <td id=\"T_67327c0a_2686_11eb_af91_0242ac1c0002row8_col3\" class=\"data row8 col3\" >3</td>\n",
              "                        <td id=\"T_67327c0a_2686_11eb_af91_0242ac1c0002row8_col4\" class=\"data row8 col4\" >7</td>\n",
              "                        <td id=\"T_67327c0a_2686_11eb_af91_0242ac1c0002row8_col5\" class=\"data row8 col5\" >0</td>\n",
              "            </tr>\n",
              "            <tr>\n",
              "                                <td id=\"T_67327c0a_2686_11eb_af91_0242ac1c0002row9_col0\" class=\"data row9 col0\" >6</td>\n",
              "                        <td id=\"T_67327c0a_2686_11eb_af91_0242ac1c0002row9_col1\" class=\"data row9 col1\" >12</td>\n",
              "                        <td id=\"T_67327c0a_2686_11eb_af91_0242ac1c0002row9_col2\" class=\"data row9 col2\" >6</td>\n",
              "                        <td id=\"T_67327c0a_2686_11eb_af91_0242ac1c0002row9_col3\" class=\"data row9 col3\" >1</td>\n",
              "                        <td id=\"T_67327c0a_2686_11eb_af91_0242ac1c0002row9_col4\" class=\"data row9 col4\" >7</td>\n",
              "                        <td id=\"T_67327c0a_2686_11eb_af91_0242ac1c0002row9_col5\" class=\"data row9 col5\" >3</td>\n",
              "            </tr>\n",
              "            <tr>\n",
              "                                <td id=\"T_67327c0a_2686_11eb_af91_0242ac1c0002row10_col0\" class=\"data row10 col0\" >7</td>\n",
              "                        <td id=\"T_67327c0a_2686_11eb_af91_0242ac1c0002row10_col1\" class=\"data row10 col1\" >3</td>\n",
              "                        <td id=\"T_67327c0a_2686_11eb_af91_0242ac1c0002row10_col2\" class=\"data row10 col2\" >2</td>\n",
              "                        <td id=\"T_67327c0a_2686_11eb_af91_0242ac1c0002row10_col3\" class=\"data row10 col3\" >0</td>\n",
              "                        <td id=\"T_67327c0a_2686_11eb_af91_0242ac1c0002row10_col4\" class=\"data row10 col4\" >6</td>\n",
              "                        <td id=\"T_67327c0a_2686_11eb_af91_0242ac1c0002row10_col5\" class=\"data row10 col5\" >15</td>\n",
              "            </tr>\n",
              "            <tr>\n",
              "                                <td id=\"T_67327c0a_2686_11eb_af91_0242ac1c0002row11_col0\" class=\"data row11 col0\" >6</td>\n",
              "                        <td id=\"T_67327c0a_2686_11eb_af91_0242ac1c0002row11_col1\" class=\"data row11 col1\" >7</td>\n",
              "                        <td id=\"T_67327c0a_2686_11eb_af91_0242ac1c0002row11_col2\" class=\"data row11 col2\" >2</td>\n",
              "                        <td id=\"T_67327c0a_2686_11eb_af91_0242ac1c0002row11_col3\" class=\"data row11 col3\" >0</td>\n",
              "                        <td id=\"T_67327c0a_2686_11eb_af91_0242ac1c0002row11_col4\" class=\"data row11 col4\" >6</td>\n",
              "                        <td id=\"T_67327c0a_2686_11eb_af91_0242ac1c0002row11_col5\" class=\"data row11 col5\" >6</td>\n",
              "            </tr>\n",
              "            <tr>\n",
              "                                <td id=\"T_67327c0a_2686_11eb_af91_0242ac1c0002row12_col0\" class=\"data row12 col0\" >6</td>\n",
              "                        <td id=\"T_67327c0a_2686_11eb_af91_0242ac1c0002row12_col1\" class=\"data row12 col1\" >1</td>\n",
              "                        <td id=\"T_67327c0a_2686_11eb_af91_0242ac1c0002row12_col2\" class=\"data row12 col2\" >7</td>\n",
              "                        <td id=\"T_67327c0a_2686_11eb_af91_0242ac1c0002row12_col3\" class=\"data row12 col3\" >3</td>\n",
              "                        <td id=\"T_67327c0a_2686_11eb_af91_0242ac1c0002row12_col4\" class=\"data row12 col4\" >7</td>\n",
              "                        <td id=\"T_67327c0a_2686_11eb_af91_0242ac1c0002row12_col5\" class=\"data row12 col5\" >4</td>\n",
              "            </tr>\n",
              "            <tr>\n",
              "                                <td id=\"T_67327c0a_2686_11eb_af91_0242ac1c0002row13_col0\" class=\"data row13 col0\" >2</td>\n",
              "                        <td id=\"T_67327c0a_2686_11eb_af91_0242ac1c0002row13_col1\" class=\"data row13 col1\" >0</td>\n",
              "                        <td id=\"T_67327c0a_2686_11eb_af91_0242ac1c0002row13_col2\" class=\"data row13 col2\" >6</td>\n",
              "                        <td id=\"T_67327c0a_2686_11eb_af91_0242ac1c0002row13_col3\" class=\"data row13 col3\" >10</td>\n",
              "                        <td id=\"T_67327c0a_2686_11eb_af91_0242ac1c0002row13_col4\" class=\"data row13 col4\" >6</td>\n",
              "                        <td id=\"T_67327c0a_2686_11eb_af91_0242ac1c0002row13_col5\" class=\"data row13 col5\" >15</td>\n",
              "            </tr>\n",
              "            <tr>\n",
              "                                <td id=\"T_67327c0a_2686_11eb_af91_0242ac1c0002row14_col0\" class=\"data row14 col0\" >6</td>\n",
              "                        <td id=\"T_67327c0a_2686_11eb_af91_0242ac1c0002row14_col1\" class=\"data row14 col1\" >2</td>\n",
              "                        <td id=\"T_67327c0a_2686_11eb_af91_0242ac1c0002row14_col2\" class=\"data row14 col2\" >6</td>\n",
              "                        <td id=\"T_67327c0a_2686_11eb_af91_0242ac1c0002row14_col3\" class=\"data row14 col3\" >2</td>\n",
              "                        <td id=\"T_67327c0a_2686_11eb_af91_0242ac1c0002row14_col4\" class=\"data row14 col4\" >2</td>\n",
              "                        <td id=\"T_67327c0a_2686_11eb_af91_0242ac1c0002row14_col5\" class=\"data row14 col5\" >14</td>\n",
              "            </tr>\n",
              "    </tbody></table>"
            ],
            "text/plain": [
              "<pandas.io.formats.style.Styler at 0x7f06acf9b748>"
            ]
          },
          "metadata": {
            "tags": []
          },
          "execution_count": 11
        }
      ]
    },
    {
      "cell_type": "markdown",
      "metadata": {
        "id": "pViVFSnOJzzZ"
      },
      "source": [
        "Let's have a look at the frequency distribution to see what it looks like. The Counter class works well for this purpose."
      ]
    },
    {
      "cell_type": "code",
      "metadata": {
        "id": "Yht6OadNJzzb"
      },
      "source": [
        "fdist = Counter(df.to_numpy().ravel())\n",
        "x_samples, y_freqs = zip(*sorted(fdist.items(), key=lambda x: x[1], reverse=True))"
      ],
      "execution_count": null,
      "outputs": []
    },
    {
      "cell_type": "code",
      "metadata": {
        "id": "WLPomPNEJzzh",
        "outputId": "038750cc-04b6-4664-d417-acf20dc62453",
        "colab": {
          "base_uri": "https://localhost:8080/",
          "height": 279
        }
      },
      "source": [
        "plt.xticks(np.arange(len(x_samples)), x_samples)\n",
        "plt.yticks(np.arange(0, np.max(y_freqs) + 1, step=2))\n",
        "plt.xlabel('Samples')\n",
        "plt.ylabel('Frequency counts')\n",
        "plt.plot(y_freqs, '-o');"
      ],
      "execution_count": null,
      "outputs": [
        {
          "output_type": "display_data",
          "data": {
            "image/png": "[encoded data removed]",
            "text/plain": [
              "<Figure size 432x288 with 1 Axes>"
            ]
          },
          "metadata": {
            "tags": [],
            "needs_background": "light"
          }
        }
      ]
    },
    {
      "cell_type": "markdown",
      "metadata": {
        "id": "k1UsfSHQJzzq"
      },
      "source": [
        "The frequency distribution of words tend to follow what is known as [Zipf's law](https://www.ncbi.nlm.nih.gov/pmc/articles/PMC4176592/), and though the same cannot be said for letters, we can generally expect the most frequent letter (in Norwegian) to occur nearly twice as often as the second most frequent, and a handful of letters with a frequency of >2%.\n",
        "\n",
        "With a curve looking like this, it seems highly unlikely that the code is written using a classic Caesar (shift) cipher, but it *could* be a substitution cipher based on letter frequencies."
      ]
    },
    {
      "cell_type": "markdown",
      "metadata": {
        "id": "QnM3y5DMJzzr"
      },
      "source": [
        "The list of character frequencies in Norwegian is generated from [NoWaC](http://tekstlab.uio.no/nowac/char_freqs_nowac-ansi.txt) (Norwegian Web as Corpus). In Norwegian, the letter **e** is the most frequent."
      ]
    },
    {
      "cell_type": "code",
      "metadata": {
        "id": "o0jKw44AJzzs",
        "outputId": "edd4123b-4b5f-4f9c-c103-ff3a652717aa",
        "colab": {
          "base_uri": "https://localhost:8080/"
        }
      },
      "source": [
        "top15 = 'ERTNSIALODGKMVP'\n",
        "print(*top15, sep=' ')"
      ],
      "execution_count": null,
      "outputs": [
        {
          "output_type": "stream",
          "text": [
            "E R T N S I A L O D G K M V P\n"
          ],
          "name": "stdout"
        }
      ]
    },
    {
      "cell_type": "markdown",
      "metadata": {
        "id": "CEOn46stJzzy"
      },
      "source": [
        "We'll define a function that can be applied to a DataFrame. It takes a Series object and swaps occurences of encoded numbers with a given key."
      ]
    },
    {
      "cell_type": "code",
      "metadata": {
        "id": "P7JkNWX-Jzzz"
      },
      "source": [
        "def crack(sequence, target,  key):\n",
        "    \"\"\"Replace the targeted number with the corresponding key.\"\"\"\n",
        "    return np.where(sequence != target, sequence, key)"
      ],
      "execution_count": null,
      "outputs": []
    },
    {
      "cell_type": "code",
      "metadata": {
        "id": "aSVm7OF-Jzz4",
        "outputId": "19cb6493-0078-48ca-8c40-f4fce4a71236",
        "colab": {
          "base_uri": "https://localhost:8080/",
          "height": 147
        }
      },
      "source": [
        "decoded = df.copy().transform(crack, 0, target='6', key='E')\n",
        "decoded.head().style.hide_index()"
      ],
      "execution_count": null,
      "outputs": [
        {
          "output_type": "execute_result",
          "data": {
            "text/html": [
              "<style  type=\"text/css\" >\n",
              "</style><table id=\"T_6d2fce50_2686_11eb_af91_0242ac1c0002\" ><thead>    <tr>        <th class=\"col_heading level0 col0\" >0</th>        <th class=\"col_heading level0 col1\" >1</th>        <th class=\"col_heading level0 col2\" >2</th>        <th class=\"col_heading level0 col3\" >3</th>        <th class=\"col_heading level0 col4\" >4</th>        <th class=\"col_heading level0 col5\" >5</th>    </tr></thead><tbody>\n",
              "                <tr>\n",
              "                                <td id=\"T_6d2fce50_2686_11eb_af91_0242ac1c0002row0_col0\" class=\"data row0 col0\" >4</td>\n",
              "                        <td id=\"T_6d2fce50_2686_11eb_af91_0242ac1c0002row0_col1\" class=\"data row0 col1\" >12</td>\n",
              "                        <td id=\"T_6d2fce50_2686_11eb_af91_0242ac1c0002row0_col2\" class=\"data row0 col2\" >12</td>\n",
              "                        <td id=\"T_6d2fce50_2686_11eb_af91_0242ac1c0002row0_col3\" class=\"data row0 col3\" >3</td>\n",
              "                        <td id=\"T_6d2fce50_2686_11eb_af91_0242ac1c0002row0_col4\" class=\"data row0 col4\" >11</td>\n",
              "                        <td id=\"T_6d2fce50_2686_11eb_af91_0242ac1c0002row0_col5\" class=\"data row0 col5\" >8</td>\n",
              "            </tr>\n",
              "            <tr>\n",
              "                                <td id=\"T_6d2fce50_2686_11eb_af91_0242ac1c0002row1_col0\" class=\"data row1 col0\" >E</td>\n",
              "                        <td id=\"T_6d2fce50_2686_11eb_af91_0242ac1c0002row1_col1\" class=\"data row1 col1\" >14</td>\n",
              "                        <td id=\"T_6d2fce50_2686_11eb_af91_0242ac1c0002row1_col2\" class=\"data row1 col2\" >E</td>\n",
              "                        <td id=\"T_6d2fce50_2686_11eb_af91_0242ac1c0002row1_col3\" class=\"data row1 col3\" >14</td>\n",
              "                        <td id=\"T_6d2fce50_2686_11eb_af91_0242ac1c0002row1_col4\" class=\"data row1 col4\" >E</td>\n",
              "                        <td id=\"T_6d2fce50_2686_11eb_af91_0242ac1c0002row1_col5\" class=\"data row1 col5\" >5</td>\n",
              "            </tr>\n",
              "            <tr>\n",
              "                                <td id=\"T_6d2fce50_2686_11eb_af91_0242ac1c0002row2_col0\" class=\"data row2 col0\" >7</td>\n",
              "                        <td id=\"T_6d2fce50_2686_11eb_af91_0242ac1c0002row2_col1\" class=\"data row2 col1\" >4</td>\n",
              "                        <td id=\"T_6d2fce50_2686_11eb_af91_0242ac1c0002row2_col2\" class=\"data row2 col2\" >2</td>\n",
              "                        <td id=\"T_6d2fce50_2686_11eb_af91_0242ac1c0002row2_col3\" class=\"data row2 col3\" >0</td>\n",
              "                        <td id=\"T_6d2fce50_2686_11eb_af91_0242ac1c0002row2_col4\" class=\"data row2 col4\" >7</td>\n",
              "                        <td id=\"T_6d2fce50_2686_11eb_af91_0242ac1c0002row2_col5\" class=\"data row2 col5\" >5</td>\n",
              "            </tr>\n",
              "            <tr>\n",
              "                                <td id=\"T_6d2fce50_2686_11eb_af91_0242ac1c0002row3_col0\" class=\"data row3 col0\" >7</td>\n",
              "                        <td id=\"T_6d2fce50_2686_11eb_af91_0242ac1c0002row3_col1\" class=\"data row3 col1\" >4</td>\n",
              "                        <td id=\"T_6d2fce50_2686_11eb_af91_0242ac1c0002row3_col2\" class=\"data row3 col2\" >E</td>\n",
              "                        <td id=\"T_6d2fce50_2686_11eb_af91_0242ac1c0002row3_col3\" class=\"data row3 col3\" >4</td>\n",
              "                        <td id=\"T_6d2fce50_2686_11eb_af91_0242ac1c0002row3_col4\" class=\"data row3 col4\" >E</td>\n",
              "                        <td id=\"T_6d2fce50_2686_11eb_af91_0242ac1c0002row3_col5\" class=\"data row3 col5\" >1</td>\n",
              "            </tr>\n",
              "            <tr>\n",
              "                                <td id=\"T_6d2fce50_2686_11eb_af91_0242ac1c0002row4_col0\" class=\"data row4 col0\" >E</td>\n",
              "                        <td id=\"T_6d2fce50_2686_11eb_af91_0242ac1c0002row4_col1\" class=\"data row4 col1\" >14</td>\n",
              "                        <td id=\"T_6d2fce50_2686_11eb_af91_0242ac1c0002row4_col2\" class=\"data row4 col2\" >E</td>\n",
              "                        <td id=\"T_6d2fce50_2686_11eb_af91_0242ac1c0002row4_col3\" class=\"data row4 col3\" >14</td>\n",
              "                        <td id=\"T_6d2fce50_2686_11eb_af91_0242ac1c0002row4_col4\" class=\"data row4 col4\" >E</td>\n",
              "                        <td id=\"T_6d2fce50_2686_11eb_af91_0242ac1c0002row4_col5\" class=\"data row4 col5\" >9</td>\n",
              "            </tr>\n",
              "    </tbody></table>"
            ],
            "text/plain": [
              "<pandas.io.formats.style.Styler at 0x7f06aceebe48>"
            ]
          },
          "metadata": {
            "tags": []
          },
          "execution_count": 16
        }
      ]
    },
    {
      "cell_type": "markdown",
      "metadata": {
        "id": "qCOsmLg5Jzz-"
      },
      "source": [
        "Let's try some more!"
      ]
    },
    {
      "cell_type": "code",
      "metadata": {
        "id": "o4gptDT5Jz0A",
        "outputId": "f3fce536-aaf0-4b91-afa4-4395fe4706fa",
        "colab": {
          "base_uri": "https://localhost:8080/",
          "height": 361
        }
      },
      "source": [
        "for i, letter in enumerate(top15):\n",
        "    t = str(x_samples[i])\n",
        "    decoded = decoded.transform(crack, 0, target=t, key=letter)\n",
        "decoded.style.hide_index()"
      ],
      "execution_count": null,
      "outputs": [
        {
          "output_type": "execute_result",
          "data": {
            "text/html": [
              "<style  type=\"text/css\" >\n",
              "</style><table id=\"T_6d755cae_2686_11eb_af91_0242ac1c0002\" ><thead>    <tr>        <th class=\"col_heading level0 col0\" >0</th>        <th class=\"col_heading level0 col1\" >1</th>        <th class=\"col_heading level0 col2\" >2</th>        <th class=\"col_heading level0 col3\" >3</th>        <th class=\"col_heading level0 col4\" >4</th>        <th class=\"col_heading level0 col5\" >5</th>    </tr></thead><tbody>\n",
              "                <tr>\n",
              "                                <td id=\"T_6d755cae_2686_11eb_af91_0242ac1c0002row0_col0\" class=\"data row0 col0\" >A</td>\n",
              "                        <td id=\"T_6d755cae_2686_11eb_af91_0242ac1c0002row0_col1\" class=\"data row0 col1\" >L</td>\n",
              "                        <td id=\"T_6d755cae_2686_11eb_af91_0242ac1c0002row0_col2\" class=\"data row0 col2\" >L</td>\n",
              "                        <td id=\"T_6d755cae_2686_11eb_af91_0242ac1c0002row0_col3\" class=\"data row0 col3\" >S</td>\n",
              "                        <td id=\"T_6d755cae_2686_11eb_af91_0242ac1c0002row0_col4\" class=\"data row0 col4\" >D</td>\n",
              "                        <td id=\"T_6d755cae_2686_11eb_af91_0242ac1c0002row0_col5\" class=\"data row0 col5\" >V</td>\n",
              "            </tr>\n",
              "            <tr>\n",
              "                                <td id=\"T_6d755cae_2686_11eb_af91_0242ac1c0002row1_col0\" class=\"data row1 col0\" >E</td>\n",
              "                        <td id=\"T_6d755cae_2686_11eb_af91_0242ac1c0002row1_col1\" class=\"data row1 col1\" >I</td>\n",
              "                        <td id=\"T_6d755cae_2686_11eb_af91_0242ac1c0002row1_col2\" class=\"data row1 col2\" >E</td>\n",
              "                        <td id=\"T_6d755cae_2686_11eb_af91_0242ac1c0002row1_col3\" class=\"data row1 col3\" >I</td>\n",
              "                        <td id=\"T_6d755cae_2686_11eb_af91_0242ac1c0002row1_col4\" class=\"data row1 col4\" >E</td>\n",
              "                        <td id=\"T_6d755cae_2686_11eb_af91_0242ac1c0002row1_col5\" class=\"data row1 col5\" >G</td>\n",
              "            </tr>\n",
              "            <tr>\n",
              "                                <td id=\"T_6d755cae_2686_11eb_af91_0242ac1c0002row2_col0\" class=\"data row2 col0\" >R</td>\n",
              "                        <td id=\"T_6d755cae_2686_11eb_af91_0242ac1c0002row2_col1\" class=\"data row2 col1\" >A</td>\n",
              "                        <td id=\"T_6d755cae_2686_11eb_af91_0242ac1c0002row2_col2\" class=\"data row2 col2\" >T</td>\n",
              "                        <td id=\"T_6d755cae_2686_11eb_af91_0242ac1c0002row2_col3\" class=\"data row2 col3\" >N</td>\n",
              "                        <td id=\"T_6d755cae_2686_11eb_af91_0242ac1c0002row2_col4\" class=\"data row2 col4\" >R</td>\n",
              "                        <td id=\"T_6d755cae_2686_11eb_af91_0242ac1c0002row2_col5\" class=\"data row2 col5\" >G</td>\n",
              "            </tr>\n",
              "            <tr>\n",
              "                                <td id=\"T_6d755cae_2686_11eb_af91_0242ac1c0002row3_col0\" class=\"data row3 col0\" >R</td>\n",
              "                        <td id=\"T_6d755cae_2686_11eb_af91_0242ac1c0002row3_col1\" class=\"data row3 col1\" >A</td>\n",
              "                        <td id=\"T_6d755cae_2686_11eb_af91_0242ac1c0002row3_col2\" class=\"data row3 col2\" >E</td>\n",
              "                        <td id=\"T_6d755cae_2686_11eb_af91_0242ac1c0002row3_col3\" class=\"data row3 col3\" >A</td>\n",
              "                        <td id=\"T_6d755cae_2686_11eb_af91_0242ac1c0002row3_col4\" class=\"data row3 col4\" >E</td>\n",
              "                        <td id=\"T_6d755cae_2686_11eb_af91_0242ac1c0002row3_col5\" class=\"data row3 col5\" >O</td>\n",
              "            </tr>\n",
              "            <tr>\n",
              "                                <td id=\"T_6d755cae_2686_11eb_af91_0242ac1c0002row4_col0\" class=\"data row4 col0\" >E</td>\n",
              "                        <td id=\"T_6d755cae_2686_11eb_af91_0242ac1c0002row4_col1\" class=\"data row4 col1\" >I</td>\n",
              "                        <td id=\"T_6d755cae_2686_11eb_af91_0242ac1c0002row4_col2\" class=\"data row4 col2\" >E</td>\n",
              "                        <td id=\"T_6d755cae_2686_11eb_af91_0242ac1c0002row4_col3\" class=\"data row4 col3\" >I</td>\n",
              "                        <td id=\"T_6d755cae_2686_11eb_af91_0242ac1c0002row4_col4\" class=\"data row4 col4\" >E</td>\n",
              "                        <td id=\"T_6d755cae_2686_11eb_af91_0242ac1c0002row4_col5\" class=\"data row4 col5\" >K</td>\n",
              "            </tr>\n",
              "            <tr>\n",
              "                                <td id=\"T_6d755cae_2686_11eb_af91_0242ac1c0002row5_col0\" class=\"data row5 col0\" >E</td>\n",
              "                        <td id=\"T_6d755cae_2686_11eb_af91_0242ac1c0002row5_col1\" class=\"data row5 col1\" >I</td>\n",
              "                        <td id=\"T_6d755cae_2686_11eb_af91_0242ac1c0002row5_col2\" class=\"data row5 col2\" >E</td>\n",
              "                        <td id=\"T_6d755cae_2686_11eb_af91_0242ac1c0002row5_col3\" class=\"data row5 col3\" >R</td>\n",
              "                        <td id=\"T_6d755cae_2686_11eb_af91_0242ac1c0002row5_col4\" class=\"data row5 col4\" >T</td>\n",
              "                        <td id=\"T_6d755cae_2686_11eb_af91_0242ac1c0002row5_col5\" class=\"data row5 col5\" >L</td>\n",
              "            </tr>\n",
              "            <tr>\n",
              "                                <td id=\"T_6d755cae_2686_11eb_af91_0242ac1c0002row6_col0\" class=\"data row6 col0\" >T</td>\n",
              "                        <td id=\"T_6d755cae_2686_11eb_af91_0242ac1c0002row6_col1\" class=\"data row6 col1\" >N</td>\n",
              "                        <td id=\"T_6d755cae_2686_11eb_af91_0242ac1c0002row6_col2\" class=\"data row6 col2\" >R</td>\n",
              "                        <td id=\"T_6d755cae_2686_11eb_af91_0242ac1c0002row6_col3\" class=\"data row6 col3\" >N</td>\n",
              "                        <td id=\"T_6d755cae_2686_11eb_af91_0242ac1c0002row6_col4\" class=\"data row6 col4\" >R</td>\n",
              "                        <td id=\"T_6d755cae_2686_11eb_af91_0242ac1c0002row6_col5\" class=\"data row6 col5\" >T</td>\n",
              "            </tr>\n",
              "            <tr>\n",
              "                                <td id=\"T_6d755cae_2686_11eb_af91_0242ac1c0002row7_col0\" class=\"data row7 col0\" >E</td>\n",
              "                        <td id=\"T_6d755cae_2686_11eb_af91_0242ac1c0002row7_col1\" class=\"data row7 col1\" >O</td>\n",
              "                        <td id=\"T_6d755cae_2686_11eb_af91_0242ac1c0002row7_col2\" class=\"data row7 col2\" >E</td>\n",
              "                        <td id=\"T_6d755cae_2686_11eb_af91_0242ac1c0002row7_col3\" class=\"data row7 col3\" >D</td>\n",
              "                        <td id=\"T_6d755cae_2686_11eb_af91_0242ac1c0002row7_col4\" class=\"data row7 col4\" >R</td>\n",
              "                        <td id=\"T_6d755cae_2686_11eb_af91_0242ac1c0002row7_col5\" class=\"data row7 col5\" >S</td>\n",
              "            </tr>\n",
              "            <tr>\n",
              "                                <td id=\"T_6d755cae_2686_11eb_af91_0242ac1c0002row8_col0\" class=\"data row8 col0\" >E</td>\n",
              "                        <td id=\"T_6d755cae_2686_11eb_af91_0242ac1c0002row8_col1\" class=\"data row8 col1\" >K</td>\n",
              "                        <td id=\"T_6d755cae_2686_11eb_af91_0242ac1c0002row8_col2\" class=\"data row8 col2\" >R</td>\n",
              "                        <td id=\"T_6d755cae_2686_11eb_af91_0242ac1c0002row8_col3\" class=\"data row8 col3\" >S</td>\n",
              "                        <td id=\"T_6d755cae_2686_11eb_af91_0242ac1c0002row8_col4\" class=\"data row8 col4\" >R</td>\n",
              "                        <td id=\"T_6d755cae_2686_11eb_af91_0242ac1c0002row8_col5\" class=\"data row8 col5\" >N</td>\n",
              "            </tr>\n",
              "            <tr>\n",
              "                                <td id=\"T_6d755cae_2686_11eb_af91_0242ac1c0002row9_col0\" class=\"data row9 col0\" >E</td>\n",
              "                        <td id=\"T_6d755cae_2686_11eb_af91_0242ac1c0002row9_col1\" class=\"data row9 col1\" >L</td>\n",
              "                        <td id=\"T_6d755cae_2686_11eb_af91_0242ac1c0002row9_col2\" class=\"data row9 col2\" >E</td>\n",
              "                        <td id=\"T_6d755cae_2686_11eb_af91_0242ac1c0002row9_col3\" class=\"data row9 col3\" >O</td>\n",
              "                        <td id=\"T_6d755cae_2686_11eb_af91_0242ac1c0002row9_col4\" class=\"data row9 col4\" >R</td>\n",
              "                        <td id=\"T_6d755cae_2686_11eb_af91_0242ac1c0002row9_col5\" class=\"data row9 col5\" >S</td>\n",
              "            </tr>\n",
              "            <tr>\n",
              "                                <td id=\"T_6d755cae_2686_11eb_af91_0242ac1c0002row10_col0\" class=\"data row10 col0\" >R</td>\n",
              "                        <td id=\"T_6d755cae_2686_11eb_af91_0242ac1c0002row10_col1\" class=\"data row10 col1\" >S</td>\n",
              "                        <td id=\"T_6d755cae_2686_11eb_af91_0242ac1c0002row10_col2\" class=\"data row10 col2\" >T</td>\n",
              "                        <td id=\"T_6d755cae_2686_11eb_af91_0242ac1c0002row10_col3\" class=\"data row10 col3\" >N</td>\n",
              "                        <td id=\"T_6d755cae_2686_11eb_af91_0242ac1c0002row10_col4\" class=\"data row10 col4\" >E</td>\n",
              "                        <td id=\"T_6d755cae_2686_11eb_af91_0242ac1c0002row10_col5\" class=\"data row10 col5\" >M</td>\n",
              "            </tr>\n",
              "            <tr>\n",
              "                                <td id=\"T_6d755cae_2686_11eb_af91_0242ac1c0002row11_col0\" class=\"data row11 col0\" >E</td>\n",
              "                        <td id=\"T_6d755cae_2686_11eb_af91_0242ac1c0002row11_col1\" class=\"data row11 col1\" >R</td>\n",
              "                        <td id=\"T_6d755cae_2686_11eb_af91_0242ac1c0002row11_col2\" class=\"data row11 col2\" >T</td>\n",
              "                        <td id=\"T_6d755cae_2686_11eb_af91_0242ac1c0002row11_col3\" class=\"data row11 col3\" >N</td>\n",
              "                        <td id=\"T_6d755cae_2686_11eb_af91_0242ac1c0002row11_col4\" class=\"data row11 col4\" >E</td>\n",
              "                        <td id=\"T_6d755cae_2686_11eb_af91_0242ac1c0002row11_col5\" class=\"data row11 col5\" >E</td>\n",
              "            </tr>\n",
              "            <tr>\n",
              "                                <td id=\"T_6d755cae_2686_11eb_af91_0242ac1c0002row12_col0\" class=\"data row12 col0\" >E</td>\n",
              "                        <td id=\"T_6d755cae_2686_11eb_af91_0242ac1c0002row12_col1\" class=\"data row12 col1\" >O</td>\n",
              "                        <td id=\"T_6d755cae_2686_11eb_af91_0242ac1c0002row12_col2\" class=\"data row12 col2\" >R</td>\n",
              "                        <td id=\"T_6d755cae_2686_11eb_af91_0242ac1c0002row12_col3\" class=\"data row12 col3\" >S</td>\n",
              "                        <td id=\"T_6d755cae_2686_11eb_af91_0242ac1c0002row12_col4\" class=\"data row12 col4\" >R</td>\n",
              "                        <td id=\"T_6d755cae_2686_11eb_af91_0242ac1c0002row12_col5\" class=\"data row12 col5\" >A</td>\n",
              "            </tr>\n",
              "            <tr>\n",
              "                                <td id=\"T_6d755cae_2686_11eb_af91_0242ac1c0002row13_col0\" class=\"data row13 col0\" >T</td>\n",
              "                        <td id=\"T_6d755cae_2686_11eb_af91_0242ac1c0002row13_col1\" class=\"data row13 col1\" >N</td>\n",
              "                        <td id=\"T_6d755cae_2686_11eb_af91_0242ac1c0002row13_col2\" class=\"data row13 col2\" >E</td>\n",
              "                        <td id=\"T_6d755cae_2686_11eb_af91_0242ac1c0002row13_col3\" class=\"data row13 col3\" >P</td>\n",
              "                        <td id=\"T_6d755cae_2686_11eb_af91_0242ac1c0002row13_col4\" class=\"data row13 col4\" >E</td>\n",
              "                        <td id=\"T_6d755cae_2686_11eb_af91_0242ac1c0002row13_col5\" class=\"data row13 col5\" >M</td>\n",
              "            </tr>\n",
              "            <tr>\n",
              "                                <td id=\"T_6d755cae_2686_11eb_af91_0242ac1c0002row14_col0\" class=\"data row14 col0\" >E</td>\n",
              "                        <td id=\"T_6d755cae_2686_11eb_af91_0242ac1c0002row14_col1\" class=\"data row14 col1\" >T</td>\n",
              "                        <td id=\"T_6d755cae_2686_11eb_af91_0242ac1c0002row14_col2\" class=\"data row14 col2\" >E</td>\n",
              "                        <td id=\"T_6d755cae_2686_11eb_af91_0242ac1c0002row14_col3\" class=\"data row14 col3\" >T</td>\n",
              "                        <td id=\"T_6d755cae_2686_11eb_af91_0242ac1c0002row14_col4\" class=\"data row14 col4\" >T</td>\n",
              "                        <td id=\"T_6d755cae_2686_11eb_af91_0242ac1c0002row14_col5\" class=\"data row14 col5\" >I</td>\n",
              "            </tr>\n",
              "    </tbody></table>"
            ],
            "text/plain": [
              "<pandas.io.formats.style.Styler at 0x7f06acec0c18>"
            ]
          },
          "metadata": {
            "tags": []
          },
          "execution_count": 17
        }
      ]
    },
    {
      "cell_type": "markdown",
      "metadata": {
        "id": "tQri612pJz0E"
      },
      "source": [
        "This doesn't look too promising.\n",
        "\n",
        "Perhaps some of the letters on the letter frequency list have been swapped. Not too unlikely, given that different underlying training datasets can yield slightly different results."
      ]
    },
    {
      "cell_type": "code",
      "metadata": {
        "id": "5nlOsogkJz0G"
      },
      "source": [
        "top15_alt = {\n",
        "    1: 'ETRNSIALODGKMVP',  # RT -> TR\n",
        "    2: 'ERNTSIALODGKMVP',  # TN -> NT\n",
        "    3: 'ETNRSIALODGKMVP'}  # RTN -> TNR"
      ],
      "execution_count": null,
      "outputs": []
    },
    {
      "cell_type": "code",
      "metadata": {
        "id": "Anj8cndrJz0L"
      },
      "source": [
        "def freq_decoder(df, alphabet):\n",
        "    \"\"\"Decode and return a new DataFrame.\"\"\"\n",
        "    decoded = df.copy()\n",
        "    for i, letter in enumerate(alphabet):\n",
        "        t = str(x_samples[i])\n",
        "        decoded = decoded.transform(crack, 0, target=t, key=letter)\n",
        "    return decoded"
      ],
      "execution_count": null,
      "outputs": []
    },
    {
      "cell_type": "markdown",
      "metadata": {
        "id": "T4WKUaYRJz0R"
      },
      "source": [
        "Testing one by one, inspecting the tables as we go. If one suddenly clicks, there is no need to run the rest (i.e. further abstractions of this task isn't really called for)."
      ]
    },
    {
      "cell_type": "code",
      "metadata": {
        "id": "eHqTJa-TJz0S",
        "outputId": "df656984-a02f-4c08-80c6-972253f8b74b",
        "colab": {
          "base_uri": "https://localhost:8080/",
          "height": 211
        }
      },
      "source": [
        "alt_one = freq_decoder(df, top15_alt[1])\n",
        "alt_one[:8].style.hide_index()"
      ],
      "execution_count": null,
      "outputs": [
        {
          "output_type": "execute_result",
          "data": {
            "text/html": [
              "<style  type=\"text/css\" >\n",
              "</style><table id=\"T_70389be0_2686_11eb_af91_0242ac1c0002\" ><thead>    <tr>        <th class=\"col_heading level0 col0\" >0</th>        <th class=\"col_heading level0 col1\" >1</th>        <th class=\"col_heading level0 col2\" >2</th>        <th class=\"col_heading level0 col3\" >3</th>        <th class=\"col_heading level0 col4\" >4</th>        <th class=\"col_heading level0 col5\" >5</th>    </tr></thead><tbody>\n",
              "                <tr>\n",
              "                                <td id=\"T_70389be0_2686_11eb_af91_0242ac1c0002row0_col0\" class=\"data row0 col0\" >A</td>\n",
              "                        <td id=\"T_70389be0_2686_11eb_af91_0242ac1c0002row0_col1\" class=\"data row0 col1\" >L</td>\n",
              "                        <td id=\"T_70389be0_2686_11eb_af91_0242ac1c0002row0_col2\" class=\"data row0 col2\" >L</td>\n",
              "                        <td id=\"T_70389be0_2686_11eb_af91_0242ac1c0002row0_col3\" class=\"data row0 col3\" >S</td>\n",
              "                        <td id=\"T_70389be0_2686_11eb_af91_0242ac1c0002row0_col4\" class=\"data row0 col4\" >D</td>\n",
              "                        <td id=\"T_70389be0_2686_11eb_af91_0242ac1c0002row0_col5\" class=\"data row0 col5\" >V</td>\n",
              "            </tr>\n",
              "            <tr>\n",
              "                                <td id=\"T_70389be0_2686_11eb_af91_0242ac1c0002row1_col0\" class=\"data row1 col0\" >E</td>\n",
              "                        <td id=\"T_70389be0_2686_11eb_af91_0242ac1c0002row1_col1\" class=\"data row1 col1\" >I</td>\n",
              "                        <td id=\"T_70389be0_2686_11eb_af91_0242ac1c0002row1_col2\" class=\"data row1 col2\" >E</td>\n",
              "                        <td id=\"T_70389be0_2686_11eb_af91_0242ac1c0002row1_col3\" class=\"data row1 col3\" >I</td>\n",
              "                        <td id=\"T_70389be0_2686_11eb_af91_0242ac1c0002row1_col4\" class=\"data row1 col4\" >E</td>\n",
              "                        <td id=\"T_70389be0_2686_11eb_af91_0242ac1c0002row1_col5\" class=\"data row1 col5\" >G</td>\n",
              "            </tr>\n",
              "            <tr>\n",
              "                                <td id=\"T_70389be0_2686_11eb_af91_0242ac1c0002row2_col0\" class=\"data row2 col0\" >T</td>\n",
              "                        <td id=\"T_70389be0_2686_11eb_af91_0242ac1c0002row2_col1\" class=\"data row2 col1\" >A</td>\n",
              "                        <td id=\"T_70389be0_2686_11eb_af91_0242ac1c0002row2_col2\" class=\"data row2 col2\" >R</td>\n",
              "                        <td id=\"T_70389be0_2686_11eb_af91_0242ac1c0002row2_col3\" class=\"data row2 col3\" >N</td>\n",
              "                        <td id=\"T_70389be0_2686_11eb_af91_0242ac1c0002row2_col4\" class=\"data row2 col4\" >T</td>\n",
              "                        <td id=\"T_70389be0_2686_11eb_af91_0242ac1c0002row2_col5\" class=\"data row2 col5\" >G</td>\n",
              "            </tr>\n",
              "            <tr>\n",
              "                                <td id=\"T_70389be0_2686_11eb_af91_0242ac1c0002row3_col0\" class=\"data row3 col0\" >T</td>\n",
              "                        <td id=\"T_70389be0_2686_11eb_af91_0242ac1c0002row3_col1\" class=\"data row3 col1\" >A</td>\n",
              "                        <td id=\"T_70389be0_2686_11eb_af91_0242ac1c0002row3_col2\" class=\"data row3 col2\" >E</td>\n",
              "                        <td id=\"T_70389be0_2686_11eb_af91_0242ac1c0002row3_col3\" class=\"data row3 col3\" >A</td>\n",
              "                        <td id=\"T_70389be0_2686_11eb_af91_0242ac1c0002row3_col4\" class=\"data row3 col4\" >E</td>\n",
              "                        <td id=\"T_70389be0_2686_11eb_af91_0242ac1c0002row3_col5\" class=\"data row3 col5\" >O</td>\n",
              "            </tr>\n",
              "            <tr>\n",
              "                                <td id=\"T_70389be0_2686_11eb_af91_0242ac1c0002row4_col0\" class=\"data row4 col0\" >E</td>\n",
              "                        <td id=\"T_70389be0_2686_11eb_af91_0242ac1c0002row4_col1\" class=\"data row4 col1\" >I</td>\n",
              "                        <td id=\"T_70389be0_2686_11eb_af91_0242ac1c0002row4_col2\" class=\"data row4 col2\" >E</td>\n",
              "                        <td id=\"T_70389be0_2686_11eb_af91_0242ac1c0002row4_col3\" class=\"data row4 col3\" >I</td>\n",
              "                        <td id=\"T_70389be0_2686_11eb_af91_0242ac1c0002row4_col4\" class=\"data row4 col4\" >E</td>\n",
              "                        <td id=\"T_70389be0_2686_11eb_af91_0242ac1c0002row4_col5\" class=\"data row4 col5\" >K</td>\n",
              "            </tr>\n",
              "            <tr>\n",
              "                                <td id=\"T_70389be0_2686_11eb_af91_0242ac1c0002row5_col0\" class=\"data row5 col0\" >E</td>\n",
              "                        <td id=\"T_70389be0_2686_11eb_af91_0242ac1c0002row5_col1\" class=\"data row5 col1\" >I</td>\n",
              "                        <td id=\"T_70389be0_2686_11eb_af91_0242ac1c0002row5_col2\" class=\"data row5 col2\" >E</td>\n",
              "                        <td id=\"T_70389be0_2686_11eb_af91_0242ac1c0002row5_col3\" class=\"data row5 col3\" >T</td>\n",
              "                        <td id=\"T_70389be0_2686_11eb_af91_0242ac1c0002row5_col4\" class=\"data row5 col4\" >R</td>\n",
              "                        <td id=\"T_70389be0_2686_11eb_af91_0242ac1c0002row5_col5\" class=\"data row5 col5\" >L</td>\n",
              "            </tr>\n",
              "            <tr>\n",
              "                                <td id=\"T_70389be0_2686_11eb_af91_0242ac1c0002row6_col0\" class=\"data row6 col0\" >R</td>\n",
              "                        <td id=\"T_70389be0_2686_11eb_af91_0242ac1c0002row6_col1\" class=\"data row6 col1\" >N</td>\n",
              "                        <td id=\"T_70389be0_2686_11eb_af91_0242ac1c0002row6_col2\" class=\"data row6 col2\" >T</td>\n",
              "                        <td id=\"T_70389be0_2686_11eb_af91_0242ac1c0002row6_col3\" class=\"data row6 col3\" >N</td>\n",
              "                        <td id=\"T_70389be0_2686_11eb_af91_0242ac1c0002row6_col4\" class=\"data row6 col4\" >T</td>\n",
              "                        <td id=\"T_70389be0_2686_11eb_af91_0242ac1c0002row6_col5\" class=\"data row6 col5\" >R</td>\n",
              "            </tr>\n",
              "            <tr>\n",
              "                                <td id=\"T_70389be0_2686_11eb_af91_0242ac1c0002row7_col0\" class=\"data row7 col0\" >E</td>\n",
              "                        <td id=\"T_70389be0_2686_11eb_af91_0242ac1c0002row7_col1\" class=\"data row7 col1\" >O</td>\n",
              "                        <td id=\"T_70389be0_2686_11eb_af91_0242ac1c0002row7_col2\" class=\"data row7 col2\" >E</td>\n",
              "                        <td id=\"T_70389be0_2686_11eb_af91_0242ac1c0002row7_col3\" class=\"data row7 col3\" >D</td>\n",
              "                        <td id=\"T_70389be0_2686_11eb_af91_0242ac1c0002row7_col4\" class=\"data row7 col4\" >T</td>\n",
              "                        <td id=\"T_70389be0_2686_11eb_af91_0242ac1c0002row7_col5\" class=\"data row7 col5\" >S</td>\n",
              "            </tr>\n",
              "    </tbody></table>"
            ],
            "text/plain": [
              "<pandas.io.formats.style.Styler at 0x7f06aca08b70>"
            ]
          },
          "metadata": {
            "tags": []
          },
          "execution_count": 20
        }
      ]
    },
    {
      "cell_type": "code",
      "metadata": {
        "id": "io9EmdtvJz0X",
        "outputId": "686c4e64-e6c5-4efb-87fb-ce0b4fb26990",
        "colab": {
          "base_uri": "https://localhost:8080/",
          "height": 211
        }
      },
      "source": [
        "alt_two = freq_decoder(df, top15_alt[2])\n",
        "alt_two[:8].style.hide_index()"
      ],
      "execution_count": null,
      "outputs": [
        {
          "output_type": "execute_result",
          "data": {
            "text/html": [
              "<style  type=\"text/css\" >\n",
              "</style><table id=\"T_7114a414_2686_11eb_af91_0242ac1c0002\" ><thead>    <tr>        <th class=\"col_heading level0 col0\" >0</th>        <th class=\"col_heading level0 col1\" >1</th>        <th class=\"col_heading level0 col2\" >2</th>        <th class=\"col_heading level0 col3\" >3</th>        <th class=\"col_heading level0 col4\" >4</th>        <th class=\"col_heading level0 col5\" >5</th>    </tr></thead><tbody>\n",
              "                <tr>\n",
              "                                <td id=\"T_7114a414_2686_11eb_af91_0242ac1c0002row0_col0\" class=\"data row0 col0\" >A</td>\n",
              "                        <td id=\"T_7114a414_2686_11eb_af91_0242ac1c0002row0_col1\" class=\"data row0 col1\" >L</td>\n",
              "                        <td id=\"T_7114a414_2686_11eb_af91_0242ac1c0002row0_col2\" class=\"data row0 col2\" >L</td>\n",
              "                        <td id=\"T_7114a414_2686_11eb_af91_0242ac1c0002row0_col3\" class=\"data row0 col3\" >S</td>\n",
              "                        <td id=\"T_7114a414_2686_11eb_af91_0242ac1c0002row0_col4\" class=\"data row0 col4\" >D</td>\n",
              "                        <td id=\"T_7114a414_2686_11eb_af91_0242ac1c0002row0_col5\" class=\"data row0 col5\" >V</td>\n",
              "            </tr>\n",
              "            <tr>\n",
              "                                <td id=\"T_7114a414_2686_11eb_af91_0242ac1c0002row1_col0\" class=\"data row1 col0\" >E</td>\n",
              "                        <td id=\"T_7114a414_2686_11eb_af91_0242ac1c0002row1_col1\" class=\"data row1 col1\" >I</td>\n",
              "                        <td id=\"T_7114a414_2686_11eb_af91_0242ac1c0002row1_col2\" class=\"data row1 col2\" >E</td>\n",
              "                        <td id=\"T_7114a414_2686_11eb_af91_0242ac1c0002row1_col3\" class=\"data row1 col3\" >I</td>\n",
              "                        <td id=\"T_7114a414_2686_11eb_af91_0242ac1c0002row1_col4\" class=\"data row1 col4\" >E</td>\n",
              "                        <td id=\"T_7114a414_2686_11eb_af91_0242ac1c0002row1_col5\" class=\"data row1 col5\" >G</td>\n",
              "            </tr>\n",
              "            <tr>\n",
              "                                <td id=\"T_7114a414_2686_11eb_af91_0242ac1c0002row2_col0\" class=\"data row2 col0\" >R</td>\n",
              "                        <td id=\"T_7114a414_2686_11eb_af91_0242ac1c0002row2_col1\" class=\"data row2 col1\" >A</td>\n",
              "                        <td id=\"T_7114a414_2686_11eb_af91_0242ac1c0002row2_col2\" class=\"data row2 col2\" >N</td>\n",
              "                        <td id=\"T_7114a414_2686_11eb_af91_0242ac1c0002row2_col3\" class=\"data row2 col3\" >T</td>\n",
              "                        <td id=\"T_7114a414_2686_11eb_af91_0242ac1c0002row2_col4\" class=\"data row2 col4\" >R</td>\n",
              "                        <td id=\"T_7114a414_2686_11eb_af91_0242ac1c0002row2_col5\" class=\"data row2 col5\" >G</td>\n",
              "            </tr>\n",
              "            <tr>\n",
              "                                <td id=\"T_7114a414_2686_11eb_af91_0242ac1c0002row3_col0\" class=\"data row3 col0\" >R</td>\n",
              "                        <td id=\"T_7114a414_2686_11eb_af91_0242ac1c0002row3_col1\" class=\"data row3 col1\" >A</td>\n",
              "                        <td id=\"T_7114a414_2686_11eb_af91_0242ac1c0002row3_col2\" class=\"data row3 col2\" >E</td>\n",
              "                        <td id=\"T_7114a414_2686_11eb_af91_0242ac1c0002row3_col3\" class=\"data row3 col3\" >A</td>\n",
              "                        <td id=\"T_7114a414_2686_11eb_af91_0242ac1c0002row3_col4\" class=\"data row3 col4\" >E</td>\n",
              "                        <td id=\"T_7114a414_2686_11eb_af91_0242ac1c0002row3_col5\" class=\"data row3 col5\" >O</td>\n",
              "            </tr>\n",
              "            <tr>\n",
              "                                <td id=\"T_7114a414_2686_11eb_af91_0242ac1c0002row4_col0\" class=\"data row4 col0\" >E</td>\n",
              "                        <td id=\"T_7114a414_2686_11eb_af91_0242ac1c0002row4_col1\" class=\"data row4 col1\" >I</td>\n",
              "                        <td id=\"T_7114a414_2686_11eb_af91_0242ac1c0002row4_col2\" class=\"data row4 col2\" >E</td>\n",
              "                        <td id=\"T_7114a414_2686_11eb_af91_0242ac1c0002row4_col3\" class=\"data row4 col3\" >I</td>\n",
              "                        <td id=\"T_7114a414_2686_11eb_af91_0242ac1c0002row4_col4\" class=\"data row4 col4\" >E</td>\n",
              "                        <td id=\"T_7114a414_2686_11eb_af91_0242ac1c0002row4_col5\" class=\"data row4 col5\" >K</td>\n",
              "            </tr>\n",
              "            <tr>\n",
              "                                <td id=\"T_7114a414_2686_11eb_af91_0242ac1c0002row5_col0\" class=\"data row5 col0\" >E</td>\n",
              "                        <td id=\"T_7114a414_2686_11eb_af91_0242ac1c0002row5_col1\" class=\"data row5 col1\" >I</td>\n",
              "                        <td id=\"T_7114a414_2686_11eb_af91_0242ac1c0002row5_col2\" class=\"data row5 col2\" >E</td>\n",
              "                        <td id=\"T_7114a414_2686_11eb_af91_0242ac1c0002row5_col3\" class=\"data row5 col3\" >R</td>\n",
              "                        <td id=\"T_7114a414_2686_11eb_af91_0242ac1c0002row5_col4\" class=\"data row5 col4\" >N</td>\n",
              "                        <td id=\"T_7114a414_2686_11eb_af91_0242ac1c0002row5_col5\" class=\"data row5 col5\" >L</td>\n",
              "            </tr>\n",
              "            <tr>\n",
              "                                <td id=\"T_7114a414_2686_11eb_af91_0242ac1c0002row6_col0\" class=\"data row6 col0\" >N</td>\n",
              "                        <td id=\"T_7114a414_2686_11eb_af91_0242ac1c0002row6_col1\" class=\"data row6 col1\" >T</td>\n",
              "                        <td id=\"T_7114a414_2686_11eb_af91_0242ac1c0002row6_col2\" class=\"data row6 col2\" >R</td>\n",
              "                        <td id=\"T_7114a414_2686_11eb_af91_0242ac1c0002row6_col3\" class=\"data row6 col3\" >T</td>\n",
              "                        <td id=\"T_7114a414_2686_11eb_af91_0242ac1c0002row6_col4\" class=\"data row6 col4\" >R</td>\n",
              "                        <td id=\"T_7114a414_2686_11eb_af91_0242ac1c0002row6_col5\" class=\"data row6 col5\" >N</td>\n",
              "            </tr>\n",
              "            <tr>\n",
              "                                <td id=\"T_7114a414_2686_11eb_af91_0242ac1c0002row7_col0\" class=\"data row7 col0\" >E</td>\n",
              "                        <td id=\"T_7114a414_2686_11eb_af91_0242ac1c0002row7_col1\" class=\"data row7 col1\" >O</td>\n",
              "                        <td id=\"T_7114a414_2686_11eb_af91_0242ac1c0002row7_col2\" class=\"data row7 col2\" >E</td>\n",
              "                        <td id=\"T_7114a414_2686_11eb_af91_0242ac1c0002row7_col3\" class=\"data row7 col3\" >D</td>\n",
              "                        <td id=\"T_7114a414_2686_11eb_af91_0242ac1c0002row7_col4\" class=\"data row7 col4\" >R</td>\n",
              "                        <td id=\"T_7114a414_2686_11eb_af91_0242ac1c0002row7_col5\" class=\"data row7 col5\" >S</td>\n",
              "            </tr>\n",
              "    </tbody></table>"
            ],
            "text/plain": [
              "<pandas.io.formats.style.Styler at 0x7f06aca08c18>"
            ]
          },
          "metadata": {
            "tags": []
          },
          "execution_count": 21
        }
      ]
    },
    {
      "cell_type": "markdown",
      "metadata": {
        "id": "SPTCRP6aJz0d"
      },
      "source": [
        "Going nowhere, fast."
      ]
    },
    {
      "cell_type": "code",
      "metadata": {
        "id": "uNmmnDeOJz0e",
        "outputId": "1bb7c989-f013-4968-d9ed-d78cae0b9d24",
        "colab": {
          "base_uri": "https://localhost:8080/",
          "height": 211
        }
      },
      "source": [
        "alt_three = freq_decoder(df, top15_alt[3])\n",
        "alt_three[:8].style.hide_index()"
      ],
      "execution_count": null,
      "outputs": [
        {
          "output_type": "execute_result",
          "data": {
            "text/html": [
              "<style  type=\"text/css\" >\n",
              "</style><table id=\"T_71a3d01c_2686_11eb_af91_0242ac1c0002\" ><thead>    <tr>        <th class=\"col_heading level0 col0\" >0</th>        <th class=\"col_heading level0 col1\" >1</th>        <th class=\"col_heading level0 col2\" >2</th>        <th class=\"col_heading level0 col3\" >3</th>        <th class=\"col_heading level0 col4\" >4</th>        <th class=\"col_heading level0 col5\" >5</th>    </tr></thead><tbody>\n",
              "                <tr>\n",
              "                                <td id=\"T_71a3d01c_2686_11eb_af91_0242ac1c0002row0_col0\" class=\"data row0 col0\" >A</td>\n",
              "                        <td id=\"T_71a3d01c_2686_11eb_af91_0242ac1c0002row0_col1\" class=\"data row0 col1\" >L</td>\n",
              "                        <td id=\"T_71a3d01c_2686_11eb_af91_0242ac1c0002row0_col2\" class=\"data row0 col2\" >L</td>\n",
              "                        <td id=\"T_71a3d01c_2686_11eb_af91_0242ac1c0002row0_col3\" class=\"data row0 col3\" >S</td>\n",
              "                        <td id=\"T_71a3d01c_2686_11eb_af91_0242ac1c0002row0_col4\" class=\"data row0 col4\" >D</td>\n",
              "                        <td id=\"T_71a3d01c_2686_11eb_af91_0242ac1c0002row0_col5\" class=\"data row0 col5\" >V</td>\n",
              "            </tr>\n",
              "            <tr>\n",
              "                                <td id=\"T_71a3d01c_2686_11eb_af91_0242ac1c0002row1_col0\" class=\"data row1 col0\" >E</td>\n",
              "                        <td id=\"T_71a3d01c_2686_11eb_af91_0242ac1c0002row1_col1\" class=\"data row1 col1\" >I</td>\n",
              "                        <td id=\"T_71a3d01c_2686_11eb_af91_0242ac1c0002row1_col2\" class=\"data row1 col2\" >E</td>\n",
              "                        <td id=\"T_71a3d01c_2686_11eb_af91_0242ac1c0002row1_col3\" class=\"data row1 col3\" >I</td>\n",
              "                        <td id=\"T_71a3d01c_2686_11eb_af91_0242ac1c0002row1_col4\" class=\"data row1 col4\" >E</td>\n",
              "                        <td id=\"T_71a3d01c_2686_11eb_af91_0242ac1c0002row1_col5\" class=\"data row1 col5\" >G</td>\n",
              "            </tr>\n",
              "            <tr>\n",
              "                                <td id=\"T_71a3d01c_2686_11eb_af91_0242ac1c0002row2_col0\" class=\"data row2 col0\" >T</td>\n",
              "                        <td id=\"T_71a3d01c_2686_11eb_af91_0242ac1c0002row2_col1\" class=\"data row2 col1\" >A</td>\n",
              "                        <td id=\"T_71a3d01c_2686_11eb_af91_0242ac1c0002row2_col2\" class=\"data row2 col2\" >N</td>\n",
              "                        <td id=\"T_71a3d01c_2686_11eb_af91_0242ac1c0002row2_col3\" class=\"data row2 col3\" >R</td>\n",
              "                        <td id=\"T_71a3d01c_2686_11eb_af91_0242ac1c0002row2_col4\" class=\"data row2 col4\" >T</td>\n",
              "                        <td id=\"T_71a3d01c_2686_11eb_af91_0242ac1c0002row2_col5\" class=\"data row2 col5\" >G</td>\n",
              "            </tr>\n",
              "            <tr>\n",
              "                                <td id=\"T_71a3d01c_2686_11eb_af91_0242ac1c0002row3_col0\" class=\"data row3 col0\" >T</td>\n",
              "                        <td id=\"T_71a3d01c_2686_11eb_af91_0242ac1c0002row3_col1\" class=\"data row3 col1\" >A</td>\n",
              "                        <td id=\"T_71a3d01c_2686_11eb_af91_0242ac1c0002row3_col2\" class=\"data row3 col2\" >E</td>\n",
              "                        <td id=\"T_71a3d01c_2686_11eb_af91_0242ac1c0002row3_col3\" class=\"data row3 col3\" >A</td>\n",
              "                        <td id=\"T_71a3d01c_2686_11eb_af91_0242ac1c0002row3_col4\" class=\"data row3 col4\" >E</td>\n",
              "                        <td id=\"T_71a3d01c_2686_11eb_af91_0242ac1c0002row3_col5\" class=\"data row3 col5\" >O</td>\n",
              "            </tr>\n",
              "            <tr>\n",
              "                                <td id=\"T_71a3d01c_2686_11eb_af91_0242ac1c0002row4_col0\" class=\"data row4 col0\" >E</td>\n",
              "                        <td id=\"T_71a3d01c_2686_11eb_af91_0242ac1c0002row4_col1\" class=\"data row4 col1\" >I</td>\n",
              "                        <td id=\"T_71a3d01c_2686_11eb_af91_0242ac1c0002row4_col2\" class=\"data row4 col2\" >E</td>\n",
              "                        <td id=\"T_71a3d01c_2686_11eb_af91_0242ac1c0002row4_col3\" class=\"data row4 col3\" >I</td>\n",
              "                        <td id=\"T_71a3d01c_2686_11eb_af91_0242ac1c0002row4_col4\" class=\"data row4 col4\" >E</td>\n",
              "                        <td id=\"T_71a3d01c_2686_11eb_af91_0242ac1c0002row4_col5\" class=\"data row4 col5\" >K</td>\n",
              "            </tr>\n",
              "            <tr>\n",
              "                                <td id=\"T_71a3d01c_2686_11eb_af91_0242ac1c0002row5_col0\" class=\"data row5 col0\" >E</td>\n",
              "                        <td id=\"T_71a3d01c_2686_11eb_af91_0242ac1c0002row5_col1\" class=\"data row5 col1\" >I</td>\n",
              "                        <td id=\"T_71a3d01c_2686_11eb_af91_0242ac1c0002row5_col2\" class=\"data row5 col2\" >E</td>\n",
              "                        <td id=\"T_71a3d01c_2686_11eb_af91_0242ac1c0002row5_col3\" class=\"data row5 col3\" >T</td>\n",
              "                        <td id=\"T_71a3d01c_2686_11eb_af91_0242ac1c0002row5_col4\" class=\"data row5 col4\" >N</td>\n",
              "                        <td id=\"T_71a3d01c_2686_11eb_af91_0242ac1c0002row5_col5\" class=\"data row5 col5\" >L</td>\n",
              "            </tr>\n",
              "            <tr>\n",
              "                                <td id=\"T_71a3d01c_2686_11eb_af91_0242ac1c0002row6_col0\" class=\"data row6 col0\" >N</td>\n",
              "                        <td id=\"T_71a3d01c_2686_11eb_af91_0242ac1c0002row6_col1\" class=\"data row6 col1\" >R</td>\n",
              "                        <td id=\"T_71a3d01c_2686_11eb_af91_0242ac1c0002row6_col2\" class=\"data row6 col2\" >T</td>\n",
              "                        <td id=\"T_71a3d01c_2686_11eb_af91_0242ac1c0002row6_col3\" class=\"data row6 col3\" >R</td>\n",
              "                        <td id=\"T_71a3d01c_2686_11eb_af91_0242ac1c0002row6_col4\" class=\"data row6 col4\" >T</td>\n",
              "                        <td id=\"T_71a3d01c_2686_11eb_af91_0242ac1c0002row6_col5\" class=\"data row6 col5\" >N</td>\n",
              "            </tr>\n",
              "            <tr>\n",
              "                                <td id=\"T_71a3d01c_2686_11eb_af91_0242ac1c0002row7_col0\" class=\"data row7 col0\" >E</td>\n",
              "                        <td id=\"T_71a3d01c_2686_11eb_af91_0242ac1c0002row7_col1\" class=\"data row7 col1\" >O</td>\n",
              "                        <td id=\"T_71a3d01c_2686_11eb_af91_0242ac1c0002row7_col2\" class=\"data row7 col2\" >E</td>\n",
              "                        <td id=\"T_71a3d01c_2686_11eb_af91_0242ac1c0002row7_col3\" class=\"data row7 col3\" >D</td>\n",
              "                        <td id=\"T_71a3d01c_2686_11eb_af91_0242ac1c0002row7_col4\" class=\"data row7 col4\" >T</td>\n",
              "                        <td id=\"T_71a3d01c_2686_11eb_af91_0242ac1c0002row7_col5\" class=\"data row7 col5\" >S</td>\n",
              "            </tr>\n",
              "    </tbody></table>"
            ],
            "text/plain": [
              "<pandas.io.formats.style.Styler at 0x7f06aceb44a8>"
            ]
          },
          "metadata": {
            "tags": []
          },
          "execution_count": 22
        }
      ]
    },
    {
      "cell_type": "markdown",
      "metadata": {
        "id": "HAouldR5Jz0i"
      },
      "source": [
        "The curve made it look sort of interesting, but this is clearly not where it's at. The repeating patterns of certain letters, to me, also looks kind of sketchy."
      ]
    },
    {
      "cell_type": "markdown",
      "metadata": {
        "id": "njd1KvkFJz0k"
      },
      "source": [
        "Having scrapped the cipher theory, a more direct decoding approach makes sense. Let's see what the 4 bits look like converted to the hexadecimal system instead."
      ]
    },
    {
      "cell_type": "code",
      "metadata": {
        "id": "skxUVfQuJz0k",
        "outputId": "a8b6b9fb-d658-4f2e-fcd2-c31af5c8cd7e",
        "colab": {
          "base_uri": "https://localhost:8080/",
          "height": 83
        }
      },
      "source": [
        "hexdf = df.copy().applymap(lambda x: hex(int(x)))\n",
        "hexdf[:2].style.hide_index()"
      ],
      "execution_count": null,
      "outputs": [
        {
          "output_type": "execute_result",
          "data": {
            "text/html": [
              "<style  type=\"text/css\" >\n",
              "</style><table id=\"T_75e2e7bc_2686_11eb_af91_0242ac1c0002\" ><thead>    <tr>        <th class=\"col_heading level0 col0\" >0</th>        <th class=\"col_heading level0 col1\" >1</th>        <th class=\"col_heading level0 col2\" >2</th>        <th class=\"col_heading level0 col3\" >3</th>        <th class=\"col_heading level0 col4\" >4</th>        <th class=\"col_heading level0 col5\" >5</th>    </tr></thead><tbody>\n",
              "                <tr>\n",
              "                                <td id=\"T_75e2e7bc_2686_11eb_af91_0242ac1c0002row0_col0\" class=\"data row0 col0\" >0x4</td>\n",
              "                        <td id=\"T_75e2e7bc_2686_11eb_af91_0242ac1c0002row0_col1\" class=\"data row0 col1\" >0xc</td>\n",
              "                        <td id=\"T_75e2e7bc_2686_11eb_af91_0242ac1c0002row0_col2\" class=\"data row0 col2\" >0xc</td>\n",
              "                        <td id=\"T_75e2e7bc_2686_11eb_af91_0242ac1c0002row0_col3\" class=\"data row0 col3\" >0x3</td>\n",
              "                        <td id=\"T_75e2e7bc_2686_11eb_af91_0242ac1c0002row0_col4\" class=\"data row0 col4\" >0xb</td>\n",
              "                        <td id=\"T_75e2e7bc_2686_11eb_af91_0242ac1c0002row0_col5\" class=\"data row0 col5\" >0x8</td>\n",
              "            </tr>\n",
              "            <tr>\n",
              "                                <td id=\"T_75e2e7bc_2686_11eb_af91_0242ac1c0002row1_col0\" class=\"data row1 col0\" >0x6</td>\n",
              "                        <td id=\"T_75e2e7bc_2686_11eb_af91_0242ac1c0002row1_col1\" class=\"data row1 col1\" >0xe</td>\n",
              "                        <td id=\"T_75e2e7bc_2686_11eb_af91_0242ac1c0002row1_col2\" class=\"data row1 col2\" >0x6</td>\n",
              "                        <td id=\"T_75e2e7bc_2686_11eb_af91_0242ac1c0002row1_col3\" class=\"data row1 col3\" >0xe</td>\n",
              "                        <td id=\"T_75e2e7bc_2686_11eb_af91_0242ac1c0002row1_col4\" class=\"data row1 col4\" >0x6</td>\n",
              "                        <td id=\"T_75e2e7bc_2686_11eb_af91_0242ac1c0002row1_col5\" class=\"data row1 col5\" >0x5</td>\n",
              "            </tr>\n",
              "    </tbody></table>"
            ],
            "text/plain": [
              "<pandas.io.formats.style.Styler at 0x7f06aca1bb70>"
            ]
          },
          "metadata": {
            "tags": []
          },
          "execution_count": 23
        }
      ]
    },
    {
      "cell_type": "markdown",
      "metadata": {
        "id": "9Izp4BGZJz0p"
      },
      "source": [
        "Yeah. No. Chunks of 8 bits, please. This also means that we can ditch the DataFrame and work with Numpy instead. We won't have any use for the table view anymore,"
      ]
    },
    {
      "cell_type": "code",
      "metadata": {
        "id": "B_jPTWpEJz0p"
      },
      "source": [
        "a = df_raw.to_numpy().ravel()\n",
        "arr = np.array([a[i] + a[i + 1] for i in np.arange(0, a.size, 2)])"
      ],
      "execution_count": null,
      "outputs": []
    },
    {
      "cell_type": "markdown",
      "metadata": {
        "id": "UEaBG1wPJz0v"
      },
      "source": [
        "Let's look at the different representations, base 2 (binary), base 16 (hexadecimal) and base 10 (decimal), respectively:"
      ]
    },
    {
      "cell_type": "code",
      "metadata": {
        "id": "yFrP9jeOJz0w",
        "outputId": "8947cbfd-b553-40c7-86af-3e6721cff05a",
        "colab": {
          "base_uri": "https://localhost:8080/"
        }
      },
      "source": [
        "reprs = zip(\n",
        "    arr[:3], \n",
        "    [hex(np.int(b, 2)) for b in arr[:3]],\n",
        "    [np.int(b, 2) for b in arr[:3]]\n",
        ")\n",
        "print(*reprs, sep='\\n')"
      ],
      "execution_count": null,
      "outputs": [
        {
          "output_type": "stream",
          "text": [
            "('01001100', '0x4c', 76)\n",
            "('11000011', '0xc3', 195)\n",
            "('10111000', '0xb8', 184)\n"
          ],
          "name": "stdout"
        }
      ]
    },
    {
      "cell_type": "markdown",
      "metadata": {
        "id": "vyNmIAt4Jz00"
      },
      "source": [
        "Using the built-in `bytes` method, we can convert integers (base 10) to Unicode characters:"
      ]
    },
    {
      "cell_type": "code",
      "metadata": {
        "id": "FQsqlBN1Jz01",
        "outputId": "89a2f71f-bdc9-4214-8c72-b2b43a5f1961",
        "colab": {
          "base_uri": "https://localhost:8080/",
          "height": 35
        }
      },
      "source": [
        "bytes([np.int(b, 2) for b in arr]).decode('utf-8')"
      ],
      "execution_count": null,
      "outputs": [
        {
          "output_type": "execute_result",
          "data": {
            "application/vnd.google.colaboratory.intrinsic+json": {
              "type": "string"
            },
            "text/plain": [
              "'Lønnet utdanning, praksisplass og fast jobb.'"
            ]
          },
          "metadata": {
            "tags": []
          },
          "execution_count": 26
        }
      ]
    },
    {
      "cell_type": "markdown",
      "metadata": {
        "id": "VaVrjFLWJz07"
      },
      "source": [
        "#### Let's wrap it up with a short, no nonsense solution:"
      ]
    },
    {
      "cell_type": "code",
      "metadata": {
        "id": "iB1rNqmCJz07",
        "outputId": "374c728b-79d4-4bca-e000-295d197c9d9a",
        "colab": {
          "base_uri": "https://localhost:8080/",
          "height": 35
        }
      },
      "source": [
        "with open('/content/temp_data/loff.txt', 'r') as f:\n",
        "    data = list(f.read().replace('\\n', ''))\n",
        "\n",
        "bytes(\n",
        "    np.apply_along_axis(\n",
        "        lambda x: np.int(''.join(x), 2),\n",
        "        axis=1,\n",
        "        arr=np.array(data).reshape(len(data) // 8, 8)\n",
        "    ).tolist()\n",
        ").decode('utf-8')"
      ],
      "execution_count": null,
      "outputs": [
        {
          "output_type": "execute_result",
          "data": {
            "application/vnd.google.colaboratory.intrinsic+json": {
              "type": "string"
            },
            "text/plain": [
              "'Lønnet utdanning, praksisplass og fast jobb.'"
            ]
          },
          "metadata": {
            "tags": []
          },
          "execution_count": 28
        }
      ]
    },
    {
      "cell_type": "markdown",
      "metadata": {
        "id": "lULTJa1mJz0_"
      },
      "source": [
        "With comments:"
      ]
    },
    {
      "cell_type": "code",
      "metadata": {
        "id": "7vXUnmT2Jz1D",
        "outputId": "f5fff70b-0e14-4ebb-e09a-987abfbca8f2",
        "colab": {
          "base_uri": "https://localhost:8080/",
          "height": 35
        }
      },
      "source": [
        "# Construct an immutable array of bytes from\n",
        "# an iterable yielding integers in range(256)\n",
        "bytes(\n",
        "    \n",
        "    # apply a function to 1-D slices along the given axis\n",
        "    np.apply_along_axis(\n",
        "        \n",
        "        # join as strings of 8 bits before converting to base 10\n",
        "        lambda x: np.int(''.join(x), 2),\n",
        "        \n",
        "        # specify which axis our lil' lambda is applied along\n",
        "        axis=1,\n",
        "        \n",
        "        # reshape data to groups of 8 bits, i.e. (360,) -> (45, 8)\n",
        "        arr=np.array(data).reshape(len(data) // 8, 8)\n",
        "        \n",
        "    # pass to bytes() as a built-in list\n",
        "    ).tolist()\n",
        "\n",
        "# specify which encoding to use\n",
        ").decode('utf-8')"
      ],
      "execution_count": null,
      "outputs": [
        {
          "output_type": "execute_result",
          "data": {
            "application/vnd.google.colaboratory.intrinsic+json": {
              "type": "string"
            },
            "text/plain": [
              "'Lønnet utdanning, praksisplass og fast jobb.'"
            ]
          },
          "metadata": {
            "tags": []
          },
          "execution_count": 29
        }
      ]
    }
  ]
}